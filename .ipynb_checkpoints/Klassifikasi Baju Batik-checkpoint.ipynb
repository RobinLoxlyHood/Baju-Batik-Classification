{
 "cells": [
  {
   "cell_type": "markdown",
   "id": "db6e444a",
   "metadata": {},
   "source": [
    "# Import Library"
   ]
  },
  {
   "cell_type": "code",
   "execution_count": 1,
   "id": "a0b897bc",
   "metadata": {},
   "outputs": [],
   "source": [
    "import numpy as np\n",
    "import cv2 as cv\n",
    "from skimage.feature import local_binary_pattern\n",
    "import matplotlib.pyplot as plt\n",
    "from sklearn.metrics import classification_report\n",
    "from sklearn.metrics import auc,roc_auc_score,roc_curve,recall_score,f1_score\n",
    "from sklearn.neighbors import KNeighborsClassifier\n",
    "from sklearn.model_selection import cross_val_score\n",
    "from sklearn.model_selection import train_test_split\n",
    "from sklearn import metrics\n",
    "from sklearn.metrics import accuracy_score,r2_score\n",
    "from sklearn.tree import DecisionTreeClassifier\n",
    "from sklearn.neighbors import  KNeighborsClassifier\n",
    "from sklearn.ensemble import RandomForestClassifier\n",
    "from sklearn.preprocessing import LabelEncoder\n",
    "from sklearn.inspection import permutation_importance"
   ]
  },
  {
   "cell_type": "markdown",
   "id": "59f5e116",
   "metadata": {},
   "source": [
    "# Setting LBP"
   ]
  },
  {
   "cell_type": "code",
   "execution_count": 2,
   "id": "2eb44b6f",
   "metadata": {},
   "outputs": [],
   "source": [
    "# settings for LBP\n",
    "radius = 2\n",
    "n_points = 8 * radius\n",
    "METHOD = 'uniform'\n",
    "plt.rcParams['font.size'] = 9"
   ]
  },
  {
   "cell_type": "markdown",
   "id": "535b1cc4",
   "metadata": {},
   "source": [
    "# Cek Image apakah terbaca"
   ]
  },
  {
   "cell_type": "code",
   "execution_count": 3,
   "id": "0f499409",
   "metadata": {},
   "outputs": [],
   "source": [
    "img = cv.imread('Dataset/Kelas1/1.jpeg', cv.IMREAD_COLOR)"
   ]
  },
  {
   "cell_type": "code",
   "execution_count": 4,
   "id": "9b4ecffe",
   "metadata": {},
   "outputs": [],
   "source": [
    "cv.imshow(\"image\", img)\n",
    "cv.waitKey(0)\n",
    "cv.destroyAllWindows()"
   ]
  },
  {
   "cell_type": "markdown",
   "id": "421e35d9",
   "metadata": {},
   "source": [
    "# Read and LBP Process"
   ]
  },
  {
   "cell_type": "code",
   "execution_count": 5,
   "id": "4878d44d",
   "metadata": {},
   "outputs": [],
   "source": [
    "data1_kelas1_lbp = local_binary_pattern(cv.imread('Dataset/Kelas1/1.jpeg', cv.IMREAD_GRAYSCALE), n_points, radius, METHOD)\n",
    "data2_kelas1_lbp = local_binary_pattern(cv.imread('Dataset/Kelas1/2.jpeg', cv.IMREAD_GRAYSCALE), n_points, radius, METHOD)\n",
    "data3_kelas1_lbp = local_binary_pattern(cv.imread('Dataset/Kelas1/3.jpeg', cv.IMREAD_GRAYSCALE), n_points, radius, METHOD)\n",
    "data4_kelas1_lbp = local_binary_pattern(cv.imread('Dataset/Kelas1/4.jpeg', cv.IMREAD_GRAYSCALE), n_points, radius, METHOD)\n",
    "data5_kelas1_lbp = local_binary_pattern(cv.imread('Dataset/Kelas1/5.jpeg', cv.IMREAD_GRAYSCALE), n_points, radius, METHOD)\n",
    "data6_kelas1_lbp = local_binary_pattern(cv.imread('Dataset/Kelas1/6.jpeg', cv.IMREAD_GRAYSCALE), n_points, radius, METHOD)\n",
    "data7_kelas1_lbp = local_binary_pattern(cv.imread('Dataset/Kelas1/7.jpeg', cv.IMREAD_GRAYSCALE), n_points, radius, METHOD)\n",
    "data8_kelas1_lbp = local_binary_pattern(cv.imread('Dataset/Kelas1/8.jpeg', cv.IMREAD_GRAYSCALE), n_points, radius, METHOD)\n",
    "data9_kelas1_lbp = local_binary_pattern(cv.imread('Dataset/Kelas1/9.jpeg', cv.IMREAD_GRAYSCALE), n_points, radius, METHOD)\n",
    "data10_kelas1_lbp = local_binary_pattern(cv.imread('Dataset/Kelas1/10.jpeg', cv.IMREAD_GRAYSCALE), n_points, radius, METHOD)\n",
    "\n",
    "\n",
    "data1_kelas2_lbp = local_binary_pattern(cv.imread('Dataset/Kelas2/1.jpeg', cv.IMREAD_GRAYSCALE), n_points, radius, METHOD)\n",
    "data2_kelas2_lbp = local_binary_pattern(cv.imread('Dataset/Kelas2/2.jpeg', cv.IMREAD_GRAYSCALE), n_points, radius, METHOD)\n",
    "data3_kelas2_lbp = local_binary_pattern(cv.imread('Dataset/Kelas2/3.jpeg', cv.IMREAD_GRAYSCALE), n_points, radius, METHOD)\n",
    "data4_kelas2_lbp = local_binary_pattern(cv.imread('Dataset/Kelas2/4.jpeg', cv.IMREAD_GRAYSCALE), n_points, radius, METHOD)\n",
    "data5_kelas2_lbp = local_binary_pattern(cv.imread('Dataset/Kelas2/5.jpeg', cv.IMREAD_GRAYSCALE), n_points, radius, METHOD)\n",
    "data6_kelas2_lbp = local_binary_pattern(cv.imread('Dataset/Kelas2/6.jpeg', cv.IMREAD_GRAYSCALE), n_points, radius, METHOD)\n",
    "data7_kelas2_lbp = local_binary_pattern(cv.imread('Dataset/Kelas2/7.jpeg', cv.IMREAD_GRAYSCALE), n_points, radius, METHOD)\n",
    "data8_kelas2_lbp = local_binary_pattern(cv.imread('Dataset/Kelas2/8.jpeg', cv.IMREAD_GRAYSCALE), n_points, radius, METHOD)\n",
    "data9_kelas2_lbp = local_binary_pattern(cv.imread('Dataset/Kelas2/9.jpeg', cv.IMREAD_GRAYSCALE), n_points, radius, METHOD)\n",
    "data10_kelas2_lbp = local_binary_pattern(cv.imread('Dataset/Kelas2/10.jpeg', cv.IMREAD_GRAYSCALE), n_points, radius, METHOD)\n",
    "\n",
    "data1_kelas1_lbp_hist,bins = np.histogram(data1_kelas1_lbp.ravel(),256,[0,256])\n",
    "data2_kelas1_lbp_hist,bins = np.histogram(data2_kelas1_lbp.ravel(),256,[0,256])\n",
    "data3_kelas1_lbp_hist,bins = np.histogram(data3_kelas1_lbp.ravel(),256,[0,256])\n",
    "data4_kelas1_lbp_hist,bins = np.histogram(data4_kelas1_lbp.ravel(),256,[0,256])\n",
    "data5_kelas1_lbp_hist,bins = np.histogram(data5_kelas1_lbp.ravel(),256,[0,256])\n",
    "data6_kelas1_lbp_hist,bins = np.histogram(data6_kelas1_lbp.ravel(),256,[0,256])\n",
    "data7_kelas1_lbp_hist,bins = np.histogram(data7_kelas1_lbp.ravel(),256,[0,256])\n",
    "data8_kelas1_lbp_hist,bins = np.histogram(data8_kelas1_lbp.ravel(),256,[0,256])\n",
    "data9_kelas1_lbp_hist,bins = np.histogram(data9_kelas1_lbp.ravel(),256,[0,256])\n",
    "data10_kelas1_lbp_hist,bins = np.histogram(data10_kelas1_lbp.ravel(),256,[0,256])\n",
    "\n",
    "\n",
    "data1_kelas2_lbp_hist,bins = np.histogram(data1_kelas2_lbp.ravel(),256,[0,256])\n",
    "data2_kelas2_lbp_hist,bins = np.histogram(data2_kelas2_lbp.ravel(),256,[0,256])\n",
    "data3_kelas2_lbp_hist,bins = np.histogram(data3_kelas2_lbp.ravel(),256,[0,256])\n",
    "data4_kelas2_lbp_hist,bins = np.histogram(data4_kelas2_lbp.ravel(),256,[0,256])\n",
    "data5_kelas2_lbp_hist,bins = np.histogram(data5_kelas2_lbp.ravel(),256,[0,256])\n",
    "data6_kelas2_lbp_hist,bins = np.histogram(data6_kelas2_lbp.ravel(),256,[0,256])\n",
    "data7_kelas2_lbp_hist,bins = np.histogram(data7_kelas2_lbp.ravel(),256,[0,256])\n",
    "data8_kelas2_lbp_hist,bins = np.histogram(data8_kelas2_lbp.ravel(),256,[0,256])\n",
    "data9_kelas2_lbp_hist,bins = np.histogram(data9_kelas2_lbp.ravel(),256,[0,256])\n",
    "data10_kelas2_lbp_hist,bins = np.histogram(data10_kelas2_lbp.ravel(),256,[0,256])\n",
    "\n",
    "#ubah vektor ke matriks dan lakukan transpose matriks untuk data kelas 1\n",
    "data1_kelas1_lbp_hist=np.transpose(data1_kelas1_lbp_hist[0:18,np.newaxis])\n",
    "data2_kelas1_lbp_hist=np.transpose(data2_kelas1_lbp_hist[0:18,np.newaxis])\n",
    "data3_kelas1_lbp_hist=np.transpose(data3_kelas1_lbp_hist[0:18,np.newaxis])\n",
    "data4_kelas1_lbp_hist=np.transpose(data4_kelas1_lbp_hist[0:18,np.newaxis])\n",
    "data5_kelas1_lbp_hist=np.transpose(data5_kelas1_lbp_hist[0:18,np.newaxis])\n",
    "data6_kelas1_lbp_hist=np.transpose(data6_kelas1_lbp_hist[0:18,np.newaxis])\n",
    "data7_kelas1_lbp_hist=np.transpose(data7_kelas1_lbp_hist[0:18,np.newaxis])\n",
    "data8_kelas1_lbp_hist=np.transpose(data8_kelas1_lbp_hist[0:18,np.newaxis])\n",
    "data9_kelas1_lbp_hist=np.transpose(data9_kelas1_lbp_hist[0:18,np.newaxis])\n",
    "data10_kelas1_lbp_hist=np.transpose(data10_kelas1_lbp_hist[0:18,np.newaxis])\n",
    "\n",
    "#ubah vektor ke matriks dan lakukan transpose matriks untuk data kelas 2\n",
    "data1_kelas2_lbp_hist=np.transpose(data1_kelas2_lbp_hist[0:18,np.newaxis])\n",
    "data2_kelas2_lbp_hist=np.transpose(data2_kelas2_lbp_hist[0:18,np.newaxis])\n",
    "data3_kelas2_lbp_hist=np.transpose(data3_kelas2_lbp_hist[0:18,np.newaxis])\n",
    "data4_kelas2_lbp_hist=np.transpose(data4_kelas2_lbp_hist[0:18,np.newaxis])\n",
    "data5_kelas2_lbp_hist=np.transpose(data5_kelas2_lbp_hist[0:18,np.newaxis])\n",
    "data6_kelas2_lbp_hist=np.transpose(data6_kelas2_lbp_hist[0:18,np.newaxis])\n",
    "data7_kelas2_lbp_hist=np.transpose(data7_kelas2_lbp_hist[0:18,np.newaxis])\n",
    "data8_kelas2_lbp_hist=np.transpose(data8_kelas2_lbp_hist[0:18,np.newaxis])\n",
    "data9_kelas2_lbp_hist=np.transpose(data9_kelas2_lbp_hist[0:18,np.newaxis])\n",
    "data10_kelas2_lbp_hist=np.transpose(data10_kelas2_lbp_hist[0:18,np.newaxis])\n",
    "\n",
    "#gabungkan data citra menjadi satu matriks data training\n",
    "trainData = np.concatenate((data1_kelas1_lbp_hist, data2_kelas1_lbp_hist,\n",
    "data3_kelas1_lbp_hist, data4_kelas1_lbp_hist, data5_kelas1_lbp_hist, data6_kelas1_lbp_hist,\n",
    "data7_kelas1_lbp_hist, data8_kelas1_lbp_hist, data9_kelas1_lbp_hist, data10_kelas1_lbp_hist,\n",
    "data1_kelas2_lbp_hist, data2_kelas2_lbp_hist, data3_kelas2_lbp_hist, data4_kelas2_lbp_hist,\n",
    "data5_kelas2_lbp_hist, data6_kelas2_lbp_hist, data7_kelas2_lbp_hist, data8_kelas2_lbp_hist,\n",
    "data9_kelas2_lbp_hist, data10_kelas2_lbp_hist), axis=0).astype(np.float32)\n",
    "\n",
    "#gabungkan data citra menjadi satu matriks data testing\n",
    "testData = np.concatenate((data1_kelas1_lbp_hist, data2_kelas1_lbp_hist,\n",
    "data3_kelas1_lbp_hist, data4_kelas1_lbp_hist, data5_kelas1_lbp_hist, data6_kelas1_lbp_hist,\n",
    "data7_kelas1_lbp_hist, data8_kelas1_lbp_hist, data9_kelas1_lbp_hist, data10_kelas1_lbp_hist,\n",
    "data1_kelas2_lbp_hist, data2_kelas2_lbp_hist, data3_kelas2_lbp_hist, data4_kelas2_lbp_hist,\n",
    "data5_kelas2_lbp_hist, data6_kelas2_lbp_hist, data7_kelas2_lbp_hist, data8_kelas2_lbp_hist,\n",
    "data9_kelas2_lbp_hist, data10_kelas2_lbp_hist), axis=0).astype(np.float32)\n",
    "\n",
    "responses = np.array([1, 1, 1, 1, 1, 1, 1, 1, 1, 1, 2, 2, 2, 2, 2, 2, 2, 2, 2, 2]).astype(np.float32)"
   ]
  },
  {
   "cell_type": "markdown",
   "id": "57e4d8be",
   "metadata": {},
   "source": [
    "# Klassifikasi dengan KNN"
   ]
  },
  {
   "cell_type": "code",
   "execution_count": 6,
   "id": "f06a96b3",
   "metadata": {},
   "outputs": [
    {
     "name": "stdout",
     "output_type": "stream",
     "text": [
      "Accuracy  : 80.0 %\n"
     ]
    }
   ],
   "source": [
    "#mendefinisikan nilai k = 3\n",
    "knn=KNeighborsClassifier(n_neighbors=3)\n",
    "knn.fit(trainData,responses)\n",
    "res = knn.predict(testData)\n",
    "\n",
    "#Menghitung Score / evaluasi model\n",
    "score_knn= cross_val_score(knn, trainData, responses, cv=5, scoring='accuracy')\n",
    "# Tampilkan nilai accuracy dan standard deviasi\n",
    "print('Accuracy  :',score_knn.mean()*100, '%')"
   ]
  },
  {
   "cell_type": "code",
   "execution_count": 7,
   "id": "17e9c58d",
   "metadata": {},
   "outputs": [
    {
     "name": "stdout",
     "output_type": "stream",
     "text": [
      "[1. 1. 1. 1. 1. 1. 1. 1. 1. 1. 2. 2. 2. 2. 2. 2. 2. 2. 2. 2.]\n"
     ]
    },
    {
     "data": {
      "image/png": "[encoded data removed]",
      "text/plain": [
       "<Figure size 432x288 with 1 Axes>"
      ]
     },
     "metadata": {
      "needs_background": "light"
     },
     "output_type": "display_data"
    }
   ],
   "source": [
    "# visualisasi ketetanggaan\n",
    "red = trainData[responses.ravel()==1]\n",
    "plt.scatter(red[:,0],red[:,1],80,'r','^')\n",
    "blue = trainData[responses.ravel()==2]\n",
    "plt.scatter(blue[:,0],blue[:,1],80,'b','s')\n",
    "plt.scatter(res[0],res[1],80,'g','o')\n",
    "\n",
    "print(res)\n",
    "plt.show()"
   ]
  },
  {
   "cell_type": "markdown",
   "id": "9bd9c5b8",
   "metadata": {},
   "source": [
    "# Klassifikasi dengan Decision Tree"
   ]
  },
  {
   "cell_type": "code",
   "execution_count": 8,
   "id": "4b3ec32f",
   "metadata": {},
   "outputs": [
    {
     "name": "stdout",
     "output_type": "stream",
     "text": [
      "Accuracy  : 95.0 %\n"
     ]
    },
    {
     "data": {
      "text/plain": [
       "[Text(0.5, 0.75, 'X[8] <= 54006.0\\ngini = 0.5\\nsamples = 20\\nvalue = [10, 10]'),\n",
       " Text(0.25, 0.25, 'gini = 0.0\\nsamples = 10\\nvalue = [10, 0]'),\n",
       " Text(0.75, 0.25, 'gini = 0.0\\nsamples = 10\\nvalue = [0, 10]')]"
      ]
     },
     "execution_count": 8,
     "metadata": {},
     "output_type": "execute_result"
    },
    {
     "data": {
      "image/png": "[encoded data removed]",
      "text/plain": [
       "<Figure size 432x288 with 1 Axes>"
      ]
     },
     "metadata": {
      "needs_background": "light"
     },
     "output_type": "display_data"
    }
   ],
   "source": [
    "DTC = DecisionTreeClassifier()\n",
    "#Membangun model dan melakukan training\n",
    "DTC.fit(trainData,responses)\n",
    "res = DTC.predict(testData)\n",
    "\n",
    "score_dtc= cross_val_score(DTC, trainData, responses, cv=5, scoring='accuracy')\n",
    "print('Accuracy  :',score_dtc.mean()*100, '%')\n",
    "from sklearn import tree\n",
    "tree.plot_tree(DTC.fit(trainData, responses))"
   ]
  },
  {
   "cell_type": "code",
   "execution_count": 9,
   "id": "3639c8a8",
   "metadata": {},
   "outputs": [
    {
     "name": "stdout",
     "output_type": "stream",
     "text": [
      "Accuracy  : 75.0 %\n"
     ]
    }
   ],
   "source": [
    "from sklearn import svm\n",
    "\n",
    "svm_classifier = svm.SVC()\n",
    "svm_classifier = svm_classifier.fit(trainData,responses)\n",
    "res = svm_classifier.predict(testData)\n",
    "\n",
    "#Menghitung Score / evaluasi model\n",
    "score_svm= cross_val_score(svm_classifier, trainData, responses, cv=5, scoring='accuracy')\n",
    "# Tampilkan nilai accuracy dan standard deviasi\n",
    "print('Accuracy  :',score_svm.mean()*100, '%')"
   ]
  },
  {
   "cell_type": "code",
   "execution_count": 13,
   "id": "6e2e279f",
   "metadata": {},
   "outputs": [
    {
     "data": {
      "image/png": "[encoded data removed]",
      "text/plain": [
       "<Figure size 720x360 with 1 Axes>"
      ]
     },
     "metadata": {
      "needs_background": "light"
     },
     "output_type": "display_data"
    }
   ],
   "source": [
    "# creating the dataset\n",
    "data = {'KNN' :score_knn.mean()*100, 'Decision Tree':score_dtc.mean()*100,\n",
    "        'SVM' :score_svm.mean()*100}\n",
    "courses = list(data.keys())\n",
    "values = list(data.values())\n",
    "  \n",
    "fig = plt.figure(figsize = (10, 5))\n",
    " \n",
    "# creating the bar plot\n",
    "plt.bar(courses, values, color ='blue',\n",
    "        width = 0.4)\n",
    " \n",
    "plt.xlabel(\"Classifier\")\n",
    "plt.ylabel(\"Accuracy (%)\")\n",
    "plt.title(\"Classifier Comparison\")\n",
    "plt.savefig('Classifier Comparison.jpg')\n",
    "plt.show()"
   ]
  },
  {
   "cell_type": "markdown",
   "id": "aed30243",
   "metadata": {},
   "source": [
    "# Result"
   ]
  },
  {
   "cell_type": "markdown",
   "id": "adc11c2b",
   "metadata": {},
   "source": [
    "Hasil dari Klassifikasi 2 baju batik dengan Algoritma Machine Learning (KNN, Decision Tree, SVM) menghasilkan Akurasi sebagai berikut :\n",
    "\n",
    "KNN           : 80%\n",
    "Decision Tree : 95%\n",
    "SVM           : 75%\n",
    "\n",
    "dengan demikian Akurasi terbaik dihasilkan oleh classifier Decision Tree."
   ]
  },
  {
   "cell_type": "code",
   "execution_count": null,
   "id": "1f6cb66f",
   "metadata": {},
   "outputs": [],
   "source": []
  }
 ],
 "metadata": {
  "kernelspec": {
   "display_name": "imageprocessing",
   "language": "python",
   "name": "imageprocessing"
  },
  "language_info": {
   "codemirror_mode": {
    "name": "ipython",
    "version": 3
   },
   "file_extension": ".py",
   "mimetype": "text/x-python",
   "name": "python",
   "nbconvert_exporter": "python",
   "pygments_lexer": "ipython3",
   "version": "3.7.5"
  }
 },
 "nbformat": 4,
 "nbformat_minor": 5
}
